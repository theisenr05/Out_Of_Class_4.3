{
 "cells": [
  {
   "cell_type": "code",
   "execution_count": 2,
   "id": "fed82c31",
   "metadata": {},
   "outputs": [],
   "source": [
    "import re\n",
    "import polars as pl\n",
    "from glob import glob"
   ]
  },
  {
   "cell_type": "markdown",
   "id": "bf6b90e7",
   "metadata": {},
   "source": [
    "# Using a `dict` to store tables by name.\n",
    "\n",
    "On occasion, we will need to combine more than 2 files using some combination of `UNION` and `JOIN`.  In this lecture, we will show a clean approach to scaling up these operations up to any number of files.  In the process, we will\n",
    "\n",
    "1. Use `list` comprehensions to process and `UNION` many similar files.\n",
    "2. Use `dict` comprehensions to store and access many tables by name."
   ]
  },
  {
   "cell_type": "markdown",
   "id": "c3430113",
   "metadata": {},
   "source": [
    "## Store in `dict` or `list`?\n",
    "\n",
    "* Natural sequence/order? $\\rightarrow$ `list`\n",
    "    *  Example: Lakes data and years are a natural sequence\n",
    "* Easier to refer by name? $\\rightarrow$ `dict`\n",
    "    * Baseball files have no order and easier to refer to by name"
   ]
  },
  {
   "cell_type": "markdown",
   "id": "608d3c14",
   "metadata": {},
   "source": [
    "## The Basics of working with many files.\n",
    "\n",
    "* Use `glob.glob` to find all files that match a pattern\n",
    "* Convert all files to `pd.DataFrames`\n",
    "* Store the `df` in a list or dictionary"
   ]
  },
  {
   "cell_type": "markdown",
   "id": "9df6dae2",
   "metadata": {},
   "source": [
    "### Extracting information from a `glob` search result.\n",
    "\n",
    "**Options.**\n",
    "1. Use string methods such as `split`, or\n",
    "2. Use a regular expression."
   ]
  },
  {
   "cell_type": "code",
   "execution_count": 3,
   "id": "ef4041c2",
   "metadata": {},
   "outputs": [
    {
     "data": {
      "text/plain": [
       "['./data/baseballdatabank-2023.1/core/Managers.csv',\n",
       " './data/baseballdatabank-2023.1/core/Fielding.csv',\n",
       " './data/baseballdatabank-2023.1/core/Parks.csv',\n",
       " './data/baseballdatabank-2023.1/core/People.csv',\n",
       " './data/baseballdatabank-2023.1/core/PitchingPost.csv',\n",
       " './data/baseballdatabank-2023.1/core/Teams.csv',\n",
       " './data/baseballdatabank-2023.1/core/Appearances.csv',\n",
       " './data/baseballdatabank-2023.1/core/TeamsFranchises.csv',\n",
       " './data/baseballdatabank-2023.1/core/Batting.csv',\n",
       " './data/baseballdatabank-2023.1/core/ManagersHalf.csv',\n",
       " './data/baseballdatabank-2023.1/core/FieldingOF.csv',\n",
       " './data/baseballdatabank-2023.1/core/Pitching.csv',\n",
       " './data/baseballdatabank-2023.1/core/HomeGames.csv',\n",
       " './data/baseballdatabank-2023.1/core/BattingPost.csv',\n",
       " './data/baseballdatabank-2023.1/core/TeamsHalf.csv',\n",
       " './data/baseballdatabank-2023.1/core/SeriesPost.csv',\n",
       " './data/baseballdatabank-2023.1/core/FieldingPost.csv',\n",
       " './data/baseballdatabank-2023.1/core/AllstarFull.csv',\n",
       " './data/baseballdatabank-2023.1/core/FieldingOFsplit.csv',\n",
       " './data/baseballdatabank-2023.1/contrib/AwardsManagers.csv',\n",
       " './data/baseballdatabank-2023.1/contrib/AwardsPlayers.csv',\n",
       " './data/baseballdatabank-2023.1/contrib/Salaries.csv',\n",
       " './data/baseballdatabank-2023.1/contrib/Schools.csv',\n",
       " './data/baseballdatabank-2023.1/contrib/AwardsSharePlayers.csv',\n",
       " './data/baseballdatabank-2023.1/contrib/CollegePlaying.csv',\n",
       " './data/baseballdatabank-2023.1/contrib/HallOfFame.csv',\n",
       " './data/baseballdatabank-2023.1/contrib/AwardsShareManagers.csv',\n",
       " './data/baseballdatabank-2023.1/upstream/Teams.csv']"
      ]
     },
     "execution_count": 3,
     "metadata": {},
     "output_type": "execute_result"
    }
   ],
   "source": [
    "(all_baseball_csv \n",
    " := glob('./data/baseballdatabank*/**/*.csv', recursive=True)\n",
    ")"
   ]
  },
  {
   "cell_type": "markdown",
   "id": "25299ed4",
   "metadata": {},
   "source": [
    "#### Example 1 - Using the `str.split` method to extract a file name.\n",
    "\n",
    "**Note.** The following cells are meant to show how the solution evolves.  In practice, this would all be proto-typed in a single cell."
   ]
  },
  {
   "cell_type": "code",
   "execution_count": 4,
   "id": "51fc8875",
   "metadata": {},
   "outputs": [
    {
     "data": {
      "text/plain": [
       "[['.', 'data', 'baseballdatabank-2023.1', 'core', 'Managers.csv'],\n",
       " ['.', 'data', 'baseballdatabank-2023.1', 'core', 'Fielding.csv'],\n",
       " ['.', 'data', 'baseballdatabank-2023.1', 'core', 'Parks.csv'],\n",
       " ['.', 'data', 'baseballdatabank-2023.1', 'core', 'People.csv'],\n",
       " ['.', 'data', 'baseballdatabank-2023.1', 'core', 'PitchingPost.csv'],\n",
       " ['.', 'data', 'baseballdatabank-2023.1', 'core', 'Teams.csv'],\n",
       " ['.', 'data', 'baseballdatabank-2023.1', 'core', 'Appearances.csv'],\n",
       " ['.', 'data', 'baseballdatabank-2023.1', 'core', 'TeamsFranchises.csv'],\n",
       " ['.', 'data', 'baseballdatabank-2023.1', 'core', 'Batting.csv'],\n",
       " ['.', 'data', 'baseballdatabank-2023.1', 'core', 'ManagersHalf.csv'],\n",
       " ['.', 'data', 'baseballdatabank-2023.1', 'core', 'FieldingOF.csv'],\n",
       " ['.', 'data', 'baseballdatabank-2023.1', 'core', 'Pitching.csv'],\n",
       " ['.', 'data', 'baseballdatabank-2023.1', 'core', 'HomeGames.csv'],\n",
       " ['.', 'data', 'baseballdatabank-2023.1', 'core', 'BattingPost.csv'],\n",
       " ['.', 'data', 'baseballdatabank-2023.1', 'core', 'TeamsHalf.csv'],\n",
       " ['.', 'data', 'baseballdatabank-2023.1', 'core', 'SeriesPost.csv'],\n",
       " ['.', 'data', 'baseballdatabank-2023.1', 'core', 'FieldingPost.csv'],\n",
       " ['.', 'data', 'baseballdatabank-2023.1', 'core', 'AllstarFull.csv'],\n",
       " ['.', 'data', 'baseballdatabank-2023.1', 'core', 'FieldingOFsplit.csv'],\n",
       " ['.', 'data', 'baseballdatabank-2023.1', 'contrib', 'AwardsManagers.csv'],\n",
       " ['.', 'data', 'baseballdatabank-2023.1', 'contrib', 'AwardsPlayers.csv'],\n",
       " ['.', 'data', 'baseballdatabank-2023.1', 'contrib', 'Salaries.csv'],\n",
       " ['.', 'data', 'baseballdatabank-2023.1', 'contrib', 'Schools.csv'],\n",
       " ['.', 'data', 'baseballdatabank-2023.1', 'contrib', 'AwardsSharePlayers.csv'],\n",
       " ['.', 'data', 'baseballdatabank-2023.1', 'contrib', 'CollegePlaying.csv'],\n",
       " ['.', 'data', 'baseballdatabank-2023.1', 'contrib', 'HallOfFame.csv'],\n",
       " ['.',\n",
       "  'data',\n",
       "  'baseballdatabank-2023.1',\n",
       "  'contrib',\n",
       "  'AwardsShareManagers.csv'],\n",
       " ['.', 'data', 'baseballdatabank-2023.1', 'upstream', 'Teams.csv']]"
      ]
     },
     "execution_count": 4,
     "metadata": {},
     "output_type": "execute_result"
    }
   ],
   "source": [
    "# 1. Split on forward slash\n",
    "[p.split('/') for p in all_baseball_csv]"
   ]
  },
  {
   "cell_type": "code",
   "execution_count": 5,
   "id": "2cd2e297",
   "metadata": {},
   "outputs": [
    {
     "data": {
      "text/plain": [
       "['Managers.csv',\n",
       " 'Fielding.csv',\n",
       " 'Parks.csv',\n",
       " 'People.csv',\n",
       " 'PitchingPost.csv',\n",
       " 'Teams.csv',\n",
       " 'Appearances.csv',\n",
       " 'TeamsFranchises.csv',\n",
       " 'Batting.csv',\n",
       " 'ManagersHalf.csv',\n",
       " 'FieldingOF.csv',\n",
       " 'Pitching.csv',\n",
       " 'HomeGames.csv',\n",
       " 'BattingPost.csv',\n",
       " 'TeamsHalf.csv',\n",
       " 'SeriesPost.csv',\n",
       " 'FieldingPost.csv',\n",
       " 'AllstarFull.csv',\n",
       " 'FieldingOFsplit.csv',\n",
       " 'AwardsManagers.csv',\n",
       " 'AwardsPlayers.csv',\n",
       " 'Salaries.csv',\n",
       " 'Schools.csv',\n",
       " 'AwardsSharePlayers.csv',\n",
       " 'CollegePlaying.csv',\n",
       " 'HallOfFame.csv',\n",
       " 'AwardsShareManagers.csv',\n",
       " 'Teams.csv']"
      ]
     },
     "execution_count": 5,
     "metadata": {},
     "output_type": "execute_result"
    }
   ],
   "source": [
    "# 1. Split on forward slash\n",
    "# 2. Get the last element \n",
    "[p.split('/')[-1] for p in all_baseball_csv]"
   ]
  },
  {
   "cell_type": "code",
   "execution_count": 6,
   "id": "a1d8dc73",
   "metadata": {},
   "outputs": [
    {
     "data": {
      "text/plain": [
       "[['Managers', 'csv'],\n",
       " ['Fielding', 'csv'],\n",
       " ['Parks', 'csv'],\n",
       " ['People', 'csv'],\n",
       " ['PitchingPost', 'csv'],\n",
       " ['Teams', 'csv'],\n",
       " ['Appearances', 'csv'],\n",
       " ['TeamsFranchises', 'csv'],\n",
       " ['Batting', 'csv'],\n",
       " ['ManagersHalf', 'csv'],\n",
       " ['FieldingOF', 'csv'],\n",
       " ['Pitching', 'csv'],\n",
       " ['HomeGames', 'csv'],\n",
       " ['BattingPost', 'csv'],\n",
       " ['TeamsHalf', 'csv'],\n",
       " ['SeriesPost', 'csv'],\n",
       " ['FieldingPost', 'csv'],\n",
       " ['AllstarFull', 'csv'],\n",
       " ['FieldingOFsplit', 'csv'],\n",
       " ['AwardsManagers', 'csv'],\n",
       " ['AwardsPlayers', 'csv'],\n",
       " ['Salaries', 'csv'],\n",
       " ['Schools', 'csv'],\n",
       " ['AwardsSharePlayers', 'csv'],\n",
       " ['CollegePlaying', 'csv'],\n",
       " ['HallOfFame', 'csv'],\n",
       " ['AwardsShareManagers', 'csv'],\n",
       " ['Teams', 'csv']]"
      ]
     },
     "execution_count": 6,
     "metadata": {},
     "output_type": "execute_result"
    }
   ],
   "source": [
    "# 1. Split on forward slash\n",
    "# 2. Get the last element \n",
    "# 3. Split off the file type \n",
    "[p.split('/')[-1].split('.') for p in all_baseball_csv]\n"
   ]
  },
  {
   "cell_type": "code",
   "execution_count": 7,
   "id": "9101767c",
   "metadata": {},
   "outputs": [
    {
     "data": {
      "text/plain": [
       "['Managers',\n",
       " 'Fielding',\n",
       " 'Parks',\n",
       " 'People',\n",
       " 'PitchingPost',\n",
       " 'Teams',\n",
       " 'Appearances',\n",
       " 'TeamsFranchises',\n",
       " 'Batting',\n",
       " 'ManagersHalf',\n",
       " 'FieldingOF',\n",
       " 'Pitching',\n",
       " 'HomeGames',\n",
       " 'BattingPost',\n",
       " 'TeamsHalf',\n",
       " 'SeriesPost',\n",
       " 'FieldingPost',\n",
       " 'AllstarFull',\n",
       " 'FieldingOFsplit',\n",
       " 'AwardsManagers',\n",
       " 'AwardsPlayers',\n",
       " 'Salaries',\n",
       " 'Schools',\n",
       " 'AwardsSharePlayers',\n",
       " 'CollegePlaying',\n",
       " 'HallOfFame',\n",
       " 'AwardsShareManagers',\n",
       " 'Teams']"
      ]
     },
     "execution_count": 7,
     "metadata": {},
     "output_type": "execute_result"
    }
   ],
   "source": [
    "# 1. Split on forward slash\n",
    "# 2. Get the last element \n",
    "# 3. Split off the file type \n",
    "# 4. Get the first enter (e.g. file name)\n",
    "[p.split('/')[-1].split('.')[0] for p in all_baseball_csv]"
   ]
  },
  {
   "cell_type": "code",
   "execution_count": 8,
   "id": "4c72de21",
   "metadata": {},
   "outputs": [
    {
     "data": {
      "text/plain": [
       "['Managers',\n",
       " 'Fielding',\n",
       " 'Parks',\n",
       " 'People',\n",
       " 'PitchingPost',\n",
       " 'Teams',\n",
       " 'Appearances',\n",
       " 'TeamsFranchises',\n",
       " 'Batting',\n",
       " 'ManagersHalf',\n",
       " 'FieldingOF',\n",
       " 'Pitching',\n",
       " 'HomeGames',\n",
       " 'BattingPost',\n",
       " 'TeamsHalf',\n",
       " 'SeriesPost',\n",
       " 'FieldingPost',\n",
       " 'AllstarFull',\n",
       " 'FieldingOFsplit',\n",
       " 'AwardsManagers',\n",
       " 'AwardsPlayers',\n",
       " 'Salaries',\n",
       " 'Schools',\n",
       " 'AwardsSharePlayers',\n",
       " 'CollegePlaying',\n",
       " 'HallOfFame',\n",
       " 'AwardsShareManagers',\n",
       " 'Teams']"
      ]
     },
     "execution_count": 8,
     "metadata": {},
     "output_type": "execute_result"
    }
   ],
   "source": [
    "# 1. Split on forward slash\n",
    "# 2. Get the last element \n",
    "# 3. Split off the file type \n",
    "# 4. Get the first enter (e.g. file name)\n",
    "# 5. Refactor\n",
    "get_file_name = lambda p: p.split('/')[-1].split('.')[0]\n",
    "\n",
    "[get_file_name(p) for p in all_baseball_csv]\n"
   ]
  },
  {
   "cell_type": "markdown",
   "id": "eaa215ff",
   "metadata": {},
   "source": [
    "#### Example 2 - Using a regular expression to capture the file name."
   ]
  },
  {
   "cell_type": "code",
   "execution_count": 9,
   "id": "6c107142",
   "metadata": {},
   "outputs": [
    {
     "data": {
      "text/plain": [
       "[<re.Match object; span=(0, 48), match='./data/baseballdatabank-2023.1/core/Managers.csv'>]"
      ]
     },
     "execution_count": 9,
     "metadata": {},
     "output_type": "execute_result"
    }
   ],
   "source": [
    "# 1. Start with an example path\n",
    "file_name = re.compile(r'./data/baseballdatabank-2023.1/core/Managers.csv')\n",
    "\n",
    "[_match for p in all_baseball_csv if (_match := file_name.match(p))]"
   ]
  },
  {
   "cell_type": "code",
   "execution_count": 10,
   "id": "80494770",
   "metadata": {},
   "outputs": [
    {
     "data": {
      "text/plain": [
       "[<re.Match object; span=(0, 48), match='./data/baseballdatabank-2023.1/core/Managers.csv'>,\n",
       " <re.Match object; span=(0, 48), match='./data/baseballdatabank-2023.1/core/Fielding.csv'>,\n",
       " <re.Match object; span=(0, 45), match='./data/baseballdatabank-2023.1/core/Parks.csv'>,\n",
       " <re.Match object; span=(0, 46), match='./data/baseballdatabank-2023.1/core/People.csv'>,\n",
       " <re.Match object; span=(0, 52), match='./data/baseballdatabank-2023.1/core/PitchingPost.>,\n",
       " <re.Match object; span=(0, 45), match='./data/baseballdatabank-2023.1/core/Teams.csv'>,\n",
       " <re.Match object; span=(0, 51), match='./data/baseballdatabank-2023.1/core/Appearances.c>,\n",
       " <re.Match object; span=(0, 55), match='./data/baseballdatabank-2023.1/core/TeamsFranchis>,\n",
       " <re.Match object; span=(0, 47), match='./data/baseballdatabank-2023.1/core/Batting.csv'>,\n",
       " <re.Match object; span=(0, 52), match='./data/baseballdatabank-2023.1/core/ManagersHalf.>,\n",
       " <re.Match object; span=(0, 50), match='./data/baseballdatabank-2023.1/core/FieldingOF.cs>,\n",
       " <re.Match object; span=(0, 48), match='./data/baseballdatabank-2023.1/core/Pitching.csv'>,\n",
       " <re.Match object; span=(0, 49), match='./data/baseballdatabank-2023.1/core/HomeGames.csv>,\n",
       " <re.Match object; span=(0, 51), match='./data/baseballdatabank-2023.1/core/BattingPost.c>,\n",
       " <re.Match object; span=(0, 49), match='./data/baseballdatabank-2023.1/core/TeamsHalf.csv>,\n",
       " <re.Match object; span=(0, 50), match='./data/baseballdatabank-2023.1/core/SeriesPost.cs>,\n",
       " <re.Match object; span=(0, 52), match='./data/baseballdatabank-2023.1/core/FieldingPost.>,\n",
       " <re.Match object; span=(0, 51), match='./data/baseballdatabank-2023.1/core/AllstarFull.c>,\n",
       " <re.Match object; span=(0, 55), match='./data/baseballdatabank-2023.1/core/FieldingOFspl>]"
      ]
     },
     "execution_count": 10,
     "metadata": {},
     "output_type": "execute_result"
    }
   ],
   "source": [
    "# 1. Start with an example path\n",
    "# 2. Make it match any file name\n",
    "\n",
    "file_name = re.compile(r'./data/baseballdatabank-2023.1/core/[a-zA-Z]+.csv')\n",
    "\n",
    "[_match for p in all_baseball_csv if (_match := file_name.match(p))]"
   ]
  },
  {
   "cell_type": "code",
   "execution_count": 11,
   "id": "39829a38",
   "metadata": {},
   "outputs": [
    {
     "data": {
      "text/plain": [
       "[<re.Match object; span=(0, 48), match='./data/baseballdatabank-2023.1/core/Managers.csv'>,\n",
       " <re.Match object; span=(0, 48), match='./data/baseballdatabank-2023.1/core/Fielding.csv'>,\n",
       " <re.Match object; span=(0, 45), match='./data/baseballdatabank-2023.1/core/Parks.csv'>,\n",
       " <re.Match object; span=(0, 46), match='./data/baseballdatabank-2023.1/core/People.csv'>,\n",
       " <re.Match object; span=(0, 52), match='./data/baseballdatabank-2023.1/core/PitchingPost.>,\n",
       " <re.Match object; span=(0, 45), match='./data/baseballdatabank-2023.1/core/Teams.csv'>,\n",
       " <re.Match object; span=(0, 51), match='./data/baseballdatabank-2023.1/core/Appearances.c>,\n",
       " <re.Match object; span=(0, 55), match='./data/baseballdatabank-2023.1/core/TeamsFranchis>,\n",
       " <re.Match object; span=(0, 47), match='./data/baseballdatabank-2023.1/core/Batting.csv'>,\n",
       " <re.Match object; span=(0, 52), match='./data/baseballdatabank-2023.1/core/ManagersHalf.>,\n",
       " <re.Match object; span=(0, 50), match='./data/baseballdatabank-2023.1/core/FieldingOF.cs>,\n",
       " <re.Match object; span=(0, 48), match='./data/baseballdatabank-2023.1/core/Pitching.csv'>,\n",
       " <re.Match object; span=(0, 49), match='./data/baseballdatabank-2023.1/core/HomeGames.csv>,\n",
       " <re.Match object; span=(0, 51), match='./data/baseballdatabank-2023.1/core/BattingPost.c>,\n",
       " <re.Match object; span=(0, 49), match='./data/baseballdatabank-2023.1/core/TeamsHalf.csv>,\n",
       " <re.Match object; span=(0, 50), match='./data/baseballdatabank-2023.1/core/SeriesPost.cs>,\n",
       " <re.Match object; span=(0, 52), match='./data/baseballdatabank-2023.1/core/FieldingPost.>,\n",
       " <re.Match object; span=(0, 51), match='./data/baseballdatabank-2023.1/core/AllstarFull.c>,\n",
       " <re.Match object; span=(0, 55), match='./data/baseballdatabank-2023.1/core/FieldingOFspl>,\n",
       " <re.Match object; span=(0, 57), match='./data/baseballdatabank-2023.1/contrib/AwardsMana>,\n",
       " <re.Match object; span=(0, 56), match='./data/baseballdatabank-2023.1/contrib/AwardsPlay>,\n",
       " <re.Match object; span=(0, 51), match='./data/baseballdatabank-2023.1/contrib/Salaries.c>,\n",
       " <re.Match object; span=(0, 50), match='./data/baseballdatabank-2023.1/contrib/Schools.cs>,\n",
       " <re.Match object; span=(0, 61), match='./data/baseballdatabank-2023.1/contrib/AwardsShar>,\n",
       " <re.Match object; span=(0, 57), match='./data/baseballdatabank-2023.1/contrib/CollegePla>,\n",
       " <re.Match object; span=(0, 53), match='./data/baseballdatabank-2023.1/contrib/HallOfFame>,\n",
       " <re.Match object; span=(0, 62), match='./data/baseballdatabank-2023.1/contrib/AwardsShar>,\n",
       " <re.Match object; span=(0, 49), match='./data/baseballdatabank-2023.1/upstream/Teams.csv>]"
      ]
     },
     "execution_count": 11,
     "metadata": {},
     "output_type": "execute_result"
    }
   ],
   "source": [
    "# 1. Start with an example path\n",
    "# 2. Make it match any file name\n",
    "# 3. Make it match any subfolder\n",
    "\n",
    "file_name = re.compile(r'./data/baseballdatabank-2023.1/[a-z]+/[a-zA-Z]+.csv')\n",
    "\n",
    "[_match for p in all_baseball_csv if (_match := file_name.match(p))]"
   ]
  },
  {
   "cell_type": "code",
   "execution_count": 12,
   "id": "5c0d4ec0",
   "metadata": {},
   "outputs": [
    {
     "data": {
      "text/plain": [
       "['Managers',\n",
       " 'Fielding',\n",
       " 'Parks',\n",
       " 'People',\n",
       " 'PitchingPost',\n",
       " 'Teams',\n",
       " 'Appearances',\n",
       " 'TeamsFranchises',\n",
       " 'Batting',\n",
       " 'ManagersHalf',\n",
       " 'FieldingOF',\n",
       " 'Pitching',\n",
       " 'HomeGames',\n",
       " 'BattingPost',\n",
       " 'TeamsHalf',\n",
       " 'SeriesPost',\n",
       " 'FieldingPost',\n",
       " 'AllstarFull',\n",
       " 'FieldingOFsplit',\n",
       " 'AwardsManagers',\n",
       " 'AwardsPlayers',\n",
       " 'Salaries',\n",
       " 'Schools',\n",
       " 'AwardsSharePlayers',\n",
       " 'CollegePlaying',\n",
       " 'HallOfFame',\n",
       " 'AwardsShareManagers',\n",
       " 'Teams']"
      ]
     },
     "execution_count": 12,
     "metadata": {},
     "output_type": "execute_result"
    }
   ],
   "source": [
    "# 1. Start with an example path\n",
    "# 2. Make it match any file name\n",
    "# 3. Make it match any subfolder\n",
    "# 4. Add a capture group and extract the data\n",
    "\n",
    "file_name = re.compile(r'./data/baseballdatabank-2023.1/[a-z]+/([a-zA-Z]+).csv')\n",
    "\n",
    "[_match.group(1) for p in all_baseball_csv if (_match := file_name.match(p))]"
   ]
  },
  {
   "cell_type": "code",
   "execution_count": 13,
   "id": "820dc761",
   "metadata": {},
   "outputs": [
    {
     "data": {
      "text/plain": [
       "['Managers',\n",
       " 'Fielding',\n",
       " 'Parks',\n",
       " 'People',\n",
       " 'PitchingPost',\n",
       " 'Teams',\n",
       " 'Appearances',\n",
       " 'TeamsFranchises',\n",
       " 'Batting',\n",
       " 'ManagersHalf',\n",
       " 'FieldingOF',\n",
       " 'Pitching',\n",
       " 'HomeGames',\n",
       " 'BattingPost',\n",
       " 'TeamsHalf',\n",
       " 'SeriesPost',\n",
       " 'FieldingPost',\n",
       " 'AllstarFull',\n",
       " 'FieldingOFsplit',\n",
       " 'AwardsManagers',\n",
       " 'AwardsPlayers',\n",
       " 'Salaries',\n",
       " 'Schools',\n",
       " 'AwardsSharePlayers',\n",
       " 'CollegePlaying',\n",
       " 'HallOfFame',\n",
       " 'AwardsShareManagers',\n",
       " 'Teams']"
      ]
     },
     "execution_count": 13,
     "metadata": {},
     "output_type": "execute_result"
    }
   ],
   "source": [
    "# 1. Start with an example path\n",
    "# 2. Make it match any file name\n",
    "# 3. Make it match any subfolder\n",
    "# 4. Add a capture group and extract the data\n",
    "# 5. Refactor\n",
    "\n",
    "file_name = re.compile(r'./data/baseballdatabank-2023.1/[a-z]+/([a-zA-Z]+).csv')\n",
    "\n",
    "get_file_names = lambda paths: [_match.group(1) for p in paths if (_match := file_name.match(p))]\n",
    "\n",
    "get_file_names(all_baseball_csv)"
   ]
  },
  {
   "cell_type": "markdown",
   "id": "d0070380",
   "metadata": {},
   "source": [
    "### Dealing with Windows paths\n",
    "\n",
    "* Windows uses backslash `\\` instead of forward slash `/` to separate folders/files.\n",
    "* Even on Windows, `glob` understands unix style paths that use `/` to separate files/folders.\n",
    "* Since `\\` is the escape character in Python, Windows paths will contain an escaped/literal backslash `\\\\`.\n",
    "* The wild card parts of the pattern will return Windows style paths with `\\\\`"
   ]
  },
  {
   "cell_type": "code",
   "execution_count": 14,
   "id": "4dd27430",
   "metadata": {},
   "outputs": [
    {
     "data": {
      "text/plain": [
       "['./data/baseballdatabank-2023.1/core/Managers.csv',\n",
       " './data/baseballdatabank-2023.1/core/Fielding.csv',\n",
       " './data/baseballdatabank-2023.1/core/Parks.csv',\n",
       " './data/baseballdatabank-2023.1/core/People.csv',\n",
       " './data/baseballdatabank-2023.1/core/PitchingPost.csv',\n",
       " './data/baseballdatabank-2023.1/core/Teams.csv',\n",
       " './data/baseballdatabank-2023.1/core/Appearances.csv',\n",
       " './data/baseballdatabank-2023.1/core/TeamsFranchises.csv',\n",
       " './data/baseballdatabank-2023.1/core/Batting.csv',\n",
       " './data/baseballdatabank-2023.1/core/ManagersHalf.csv',\n",
       " './data/baseballdatabank-2023.1/core/FieldingOF.csv',\n",
       " './data/baseballdatabank-2023.1/core/Pitching.csv',\n",
       " './data/baseballdatabank-2023.1/core/HomeGames.csv',\n",
       " './data/baseballdatabank-2023.1/core/BattingPost.csv',\n",
       " './data/baseballdatabank-2023.1/core/TeamsHalf.csv',\n",
       " './data/baseballdatabank-2023.1/core/SeriesPost.csv',\n",
       " './data/baseballdatabank-2023.1/core/FieldingPost.csv',\n",
       " './data/baseballdatabank-2023.1/core/AllstarFull.csv',\n",
       " './data/baseballdatabank-2023.1/core/FieldingOFsplit.csv']"
      ]
     },
     "execution_count": 14,
     "metadata": {},
     "output_type": "execute_result"
    }
   ],
   "source": [
    "# Non-recursive search run on Windows\n",
    "baseball_core_csv = glob('./data/baseballdatabank*/core/*csv', recursive=True)\n",
    "\n",
    "baseball_core_csv"
   ]
  },
  {
   "cell_type": "code",
   "execution_count": 15,
   "id": "df7d22bc",
   "metadata": {},
   "outputs": [
    {
     "data": {
      "text/plain": [
       "['./data/baseballdatabank-2023.1/core/Managers.csv',\n",
       " './data/baseballdatabank-2023.1/core/Fielding.csv',\n",
       " './data/baseballdatabank-2023.1/core/Parks.csv',\n",
       " './data/baseballdatabank-2023.1/core/People.csv',\n",
       " './data/baseballdatabank-2023.1/core/PitchingPost.csv',\n",
       " './data/baseballdatabank-2023.1/core/Teams.csv',\n",
       " './data/baseballdatabank-2023.1/core/Appearances.csv',\n",
       " './data/baseballdatabank-2023.1/core/TeamsFranchises.csv',\n",
       " './data/baseballdatabank-2023.1/core/Batting.csv',\n",
       " './data/baseballdatabank-2023.1/core/ManagersHalf.csv',\n",
       " './data/baseballdatabank-2023.1/core/FieldingOF.csv',\n",
       " './data/baseballdatabank-2023.1/core/Pitching.csv',\n",
       " './data/baseballdatabank-2023.1/core/HomeGames.csv',\n",
       " './data/baseballdatabank-2023.1/core/BattingPost.csv',\n",
       " './data/baseballdatabank-2023.1/core/TeamsHalf.csv',\n",
       " './data/baseballdatabank-2023.1/core/SeriesPost.csv',\n",
       " './data/baseballdatabank-2023.1/core/FieldingPost.csv',\n",
       " './data/baseballdatabank-2023.1/core/AllstarFull.csv',\n",
       " './data/baseballdatabank-2023.1/core/FieldingOFsplit.csv',\n",
       " './data/baseballdatabank-2023.1/contrib/AwardsManagers.csv',\n",
       " './data/baseballdatabank-2023.1/contrib/AwardsPlayers.csv',\n",
       " './data/baseballdatabank-2023.1/contrib/Salaries.csv',\n",
       " './data/baseballdatabank-2023.1/contrib/Schools.csv',\n",
       " './data/baseballdatabank-2023.1/contrib/AwardsSharePlayers.csv',\n",
       " './data/baseballdatabank-2023.1/contrib/CollegePlaying.csv',\n",
       " './data/baseballdatabank-2023.1/contrib/HallOfFame.csv',\n",
       " './data/baseballdatabank-2023.1/contrib/AwardsShareManagers.csv',\n",
       " './data/baseballdatabank-2023.1/upstream/Teams.csv']"
      ]
     },
     "execution_count": 15,
     "metadata": {},
     "output_type": "execute_result"
    }
   ],
   "source": [
    "# Recursive search run on Windows\n",
    "all_baseball_csv = glob('./data/baseballdatabank*/**/*.csv', recursive=True)\n",
    "\n",
    "all_baseball_csv"
   ]
  },
  {
   "cell_type": "markdown",
   "id": "5f1295e9",
   "metadata": {},
   "source": [
    "### Extracting information from Windows paths\n",
    "\n",
    "On Windows, we need to switch `/` to `\\\\`"
   ]
  },
  {
   "cell_type": "markdown",
   "id": "ba5097dc",
   "metadata": {},
   "source": [
    "#### Example 1 - Split and get the file name in Windows"
   ]
  },
  {
   "cell_type": "code",
   "execution_count": 16,
   "id": "2f1ce6b6",
   "metadata": {},
   "outputs": [
    {
     "data": {
      "text/plain": [
       "['',\n",
       " '',\n",
       " '',\n",
       " '',\n",
       " '',\n",
       " '',\n",
       " '',\n",
       " '',\n",
       " '',\n",
       " '',\n",
       " '',\n",
       " '',\n",
       " '',\n",
       " '',\n",
       " '',\n",
       " '',\n",
       " '',\n",
       " '',\n",
       " '',\n",
       " '',\n",
       " '',\n",
       " '',\n",
       " '',\n",
       " '',\n",
       " '',\n",
       " '',\n",
       " '',\n",
       " '']"
      ]
     },
     "execution_count": 16,
     "metadata": {},
     "output_type": "execute_result"
    }
   ],
   "source": [
    "get_file_name = lambda p: p.split('\\\\')[-1].split('.')[0]\n",
    "\n",
    "[get_file_name(p) for p in all_baseball_csv]\n"
   ]
  },
  {
   "cell_type": "markdown",
   "id": "460b8ca1",
   "metadata": {},
   "source": [
    "#### Example 2 - Using a regular expression to extract file name in Windows"
   ]
  },
  {
   "cell_type": "code",
   "execution_count": 17,
   "id": "0a3b9741",
   "metadata": {},
   "outputs": [
    {
     "data": {
      "text/plain": [
       "[]"
      ]
     },
     "execution_count": 17,
     "metadata": {},
     "output_type": "execute_result"
    }
   ],
   "source": [
    "file_name = re.compile(r'./data\\\\baseballdatabank-2023.1\\\\[a-z]+\\\\([a-zA-Z]+).csv')\n",
    "\n",
    "get_file_names = lambda paths: [_match.group(1) for p in paths if (_match := file_name.match(p))]\n",
    "\n",
    "get_file_names(all_baseball_csv)"
   ]
  },
  {
   "cell_type": "markdown",
   "id": "97c4542f",
   "metadata": {},
   "source": [
    "## Storing tables by name in a `dict`"
   ]
  },
  {
   "cell_type": "markdown",
   "id": "55fa39bf",
   "metadata": {},
   "source": [
    "### Example 1 - Read all baseball database using `dict`\n",
    "\n",
    "**Task:** Create a `dict` of tables for all tables in the Lahman database"
   ]
  },
  {
   "cell_type": "markdown",
   "id": "d0148e81",
   "metadata": {},
   "source": [
    "#### Step 1 - Use `glob` to find paths for all CSV files"
   ]
  },
  {
   "cell_type": "code",
   "execution_count": 18,
   "id": "c04f804c",
   "metadata": {},
   "outputs": [
    {
     "data": {
      "text/plain": [
       "[]"
      ]
     },
     "execution_count": 18,
     "metadata": {},
     "output_type": "execute_result"
    }
   ],
   "source": [
    "from glob import glob\n",
    "\n",
    "(files := \n",
    " glob('./data/baseball/core/*.csv')\n",
    ")"
   ]
  },
  {
   "cell_type": "markdown",
   "id": "48fe5c25",
   "metadata": {},
   "source": [
    "#### Step 2 - Make a function to extract the table name"
   ]
  },
  {
   "cell_type": "code",
   "execution_count": 19,
   "id": "5e36f3fb",
   "metadata": {},
   "outputs": [
    {
     "data": {
      "text/plain": [
       "[]"
      ]
     },
     "execution_count": 19,
     "metadata": {},
     "output_type": "execute_result"
    }
   ],
   "source": [
    "import re\n",
    "FILE_NAME_RE = re.compile(r'^\\./data/baseball/core/([a-zA-Z_]*)\\.csv$')\n",
    "file_name = lambda p: FILE_NAME_RE.match(p).group(1) if FILE_NAME_RE.match(p) else None\n",
    "\n",
    "[file_name(p) for p in files]"
   ]
  },
  {
   "cell_type": "markdown",
   "id": "e0aa21b5",
   "metadata": {},
   "source": [
    "#### 4 - Read in the tables."
   ]
  },
  {
   "cell_type": "code",
   "execution_count": 20,
   "id": "b498fff2",
   "metadata": {},
   "outputs": [
    {
     "data": {
      "text/plain": [
       "{}"
      ]
     },
     "execution_count": 20,
     "metadata": {},
     "output_type": "execute_result"
    }
   ],
   "source": [
    "(baseball_db := \n",
    " {file_name(p):pl.read_csv(p, infer_schema_length=10000) for p in files}\n",
    ")"
   ]
  },
  {
   "cell_type": "markdown",
   "id": "a04d6b84",
   "metadata": {},
   "source": [
    "### We can now access all the tables by name."
   ]
  },
  {
   "cell_type": "code",
   "execution_count": 21,
   "id": "47c2e676",
   "metadata": {
    "scrolled": true
   },
   "outputs": [
    {
     "data": {
      "text/plain": [
       "{}"
      ]
     },
     "execution_count": 21,
     "metadata": {},
     "output_type": "execute_result"
    }
   ],
   "source": [
    "# Biggish output\n",
    "baseball_db"
   ]
  },
  {
   "cell_type": "code",
   "execution_count": 22,
   "id": "4ab3a477",
   "metadata": {},
   "outputs": [
    {
     "ename": "KeyError",
     "evalue": "'Teams'",
     "output_type": "error",
     "traceback": [
      "\u001b[31m---------------------------------------------------------------------------\u001b[39m",
      "\u001b[31mKeyError\u001b[39m                                  Traceback (most recent call last)",
      "\u001b[36mCell\u001b[39m\u001b[36m \u001b[39m\u001b[32mIn[22]\u001b[39m\u001b[32m, line 1\u001b[39m\n\u001b[32m----> \u001b[39m\u001b[32m1\u001b[39m \u001b[43mbaseball_db\u001b[49m\u001b[43m[\u001b[49m\u001b[33;43m'\u001b[39;49m\u001b[33;43mTeams\u001b[39;49m\u001b[33;43m'\u001b[39;49m\u001b[43m]\u001b[49m\n",
      "\u001b[31mKeyError\u001b[39m: 'Teams'"
     ]
    }
   ],
   "source": [
    "baseball_db['Teams']"
   ]
  },
  {
   "cell_type": "code",
   "execution_count": null,
   "id": "1762dc80",
   "metadata": {},
   "outputs": [],
   "source": [
    "baseball_db['Batting']"
   ]
  },
  {
   "cell_type": "markdown",
   "id": "1e56060b",
   "metadata": {},
   "source": [
    "## Example 2 - Reading and joining the baseball database using `dict`\n",
    "\n",
    "**Task:** Collect the number of total hits for each batters in the 2010 season join on their first and last name.\n",
    "\n",
    "In the second example, we will store the data frames in a `dict`, which will make it easier to join the files by ne"
   ]
  },
  {
   "cell_type": "markdown",
   "id": "11ee1891",
   "metadata": {},
   "source": [
    "#### Step 1 - Get the files names"
   ]
  },
  {
   "cell_type": "markdown",
   "id": "469e873a",
   "metadata": {},
   "source": [
    "* Only need the `Batting.csv` and `People.csv`.  \n",
    "* Narrow with a RegEx"
   ]
  },
  {
   "cell_type": "code",
   "execution_count": null,
   "id": "6636bf07",
   "metadata": {},
   "outputs": [],
   "source": [
    "from glob import glob\n",
    "\n",
    "(files := \n",
    " glob('./data/baseball/core/*.csv')\n",
    ")"
   ]
  },
  {
   "cell_type": "markdown",
   "id": "da4c353f",
   "metadata": {},
   "source": [
    "#### Step 2 - Make helper functions to get the name from path"
   ]
  },
  {
   "cell_type": "code",
   "execution_count": null,
   "id": "529685eb",
   "metadata": {},
   "outputs": [],
   "source": [
    "import re\n",
    "FILE_NAME_RE = re.compile(r'^\\./data/baseball/core/(Batting|People)\\.csv$')\n",
    "is_batting_or_people = lambda p: FILE_NAME_RE.match(p)\n",
    "file_name = lambda p: FILE_NAME_RE.match(p).group(1) \n",
    "\n",
    "[file_name(p) for p in files if is_batting_or_people(p)]"
   ]
  },
  {
   "cell_type": "markdown",
   "id": "e8d773f9",
   "metadata": {},
   "source": [
    "#### Step 3 - Use a comprehension to read in all files\n",
    "\n",
    "**Note:** The data is small (< 10mb total) so it is safe to read all at once."
   ]
  },
  {
   "cell_type": "code",
   "execution_count": null,
   "id": "26824c9a",
   "metadata": {},
   "outputs": [],
   "source": [
    "dfs = {file_name(p):pl.read_csv(p) for p in files if is_batting_or_people(p)}\n",
    "dfs['Batting'].head()"
   ]
  },
  {
   "cell_type": "code",
   "execution_count": null,
   "id": "08beb0e5",
   "metadata": {},
   "outputs": [],
   "source": [
    "dfs['People'].head()"
   ]
  },
  {
   "cell_type": "markdown",
   "id": "1320b4f4",
   "metadata": {},
   "source": [
    "#### Step 4 - Preprocess each file."
   ]
  },
  {
   "cell_type": "code",
   "execution_count": null,
   "id": "2cae90b4",
   "metadata": {},
   "outputs": [],
   "source": [
    "# Filter, select, and aggregate hits for 2010.\n",
    "(hits_in_2010_raw := \n",
    " dfs['Batting']\n",
    ".select(['yearID', 'playerID', 'H'])\n",
    ".filter(pl.col('yearID') == 2010)\n",
    ".group_by('playerID')\n",
    ".agg(pl.col('H').mean().alias('Total Hits'))\n",
    ").head(2)"
   ]
  },
  {
   "cell_type": "code",
   "execution_count": null,
   "id": "db9bfc5f",
   "metadata": {},
   "outputs": [],
   "source": [
    "# Grab the first and last names from People.\n",
    "\n",
    "(player_names := \n",
    " dfs['People']\n",
    " .select(['playerID', 'nameFirst', 'nameLast'])\n",
    ").head(2)"
   ]
  },
  {
   "cell_type": "markdown",
   "id": "9eb5153c",
   "metadata": {},
   "source": [
    "#### Step 4 -- Join the tables"
   ]
  },
  {
   "cell_type": "code",
   "execution_count": null,
   "id": "73bd536d",
   "metadata": {},
   "outputs": [],
   "source": [
    "(hits_in_2010 := \n",
    " hits_in_2010_raw \n",
    " .join(player_names, on='playerID', how='left')\n",
    " .drop('playerID')\n",
    ").head()"
   ]
  },
  {
   "cell_type": "markdown",
   "id": "a8f7e7e2",
   "metadata": {},
   "source": [
    "## <font color=\"red\"> Exercise 3.2 </font>\n",
    "\n",
    "We want to get the total hits allowed for all pitchers during the 2000-2010 seasons.  Use `glob` and a `dict` to collect this information into a table that includes the players first and last names."
   ]
  },
  {
   "cell_type": "code",
   "execution_count": 29,
   "id": "dac25a24",
   "metadata": {},
   "outputs": [
    {
     "data": {
      "text/html": [
       "<div><style>\n",
       ".dataframe > thead > tr,\n",
       ".dataframe > tbody > tr {\n",
       "  text-align: right;\n",
       "  white-space: pre-wrap;\n",
       "}\n",
       "</style>\n",
       "<small>shape: (5, 4)</small><table border=\"1\" class=\"dataframe\"><thead><tr><th>playerID</th><th>nameFirst</th><th>nameLast</th><th>total_hits_allowed</th></tr><tr><td>str</td><td>str</td><td>str</td><td>i64</td></tr></thead><tbody><tr><td>&quot;hernali01&quot;</td><td>&quot;Livan&quot;</td><td>&quot;Hernandez&quot;</td><td>2666</td></tr><tr><td>&quot;buehrma01&quot;</td><td>&quot;Mark&quot;</td><td>&quot;Buehrle&quot;</td><td>2389</td></tr><tr><td>&quot;suppaje01&quot;</td><td>&quot;Jeff&quot;</td><td>&quot;Suppan&quot;</td><td>2298</td></tr><tr><td>&quot;vazquja01&quot;</td><td>&quot;Javier&quot;</td><td>&quot;Vazquez&quot;</td><td>2256</td></tr><tr><td>&quot;millwke01&quot;</td><td>&quot;Kevin&quot;</td><td>&quot;Millwood&quot;</td><td>2146</td></tr></tbody></table></div>"
      ],
      "text/plain": [
       "shape: (5, 4)\n",
       "┌───────────┬───────────┬───────────┬────────────────────┐\n",
       "│ playerID  ┆ nameFirst ┆ nameLast  ┆ total_hits_allowed │\n",
       "│ ---       ┆ ---       ┆ ---       ┆ ---                │\n",
       "│ str       ┆ str       ┆ str       ┆ i64                │\n",
       "╞═══════════╪═══════════╪═══════════╪════════════════════╡\n",
       "│ hernali01 ┆ Livan     ┆ Hernandez ┆ 2666               │\n",
       "│ buehrma01 ┆ Mark      ┆ Buehrle   ┆ 2389               │\n",
       "│ suppaje01 ┆ Jeff      ┆ Suppan    ┆ 2298               │\n",
       "│ vazquja01 ┆ Javier    ┆ Vazquez   ┆ 2256               │\n",
       "│ millwke01 ┆ Kevin     ┆ Millwood  ┆ 2146               │\n",
       "└───────────┴───────────┴───────────┴────────────────────┘"
      ]
     },
     "execution_count": 29,
     "metadata": {},
     "output_type": "execute_result"
    }
   ],
   "source": [
    "from glob import glob\n",
    "from pathlib import Path\n",
    "import polars as pl\n",
    "\n",
    "files = glob(\"./data/baseballdatabank-2023.1/core/*.csv\")\n",
    "\n",
    "baseball_db = {\n",
    "    Path(p).stem.lower(): pl.read_csv(p, infer_schema_length=10000)\n",
    "    for p in files\n",
    "}\n",
    "\n",
    "pitching = baseball_db[\"pitching\"]\n",
    "people   = baseball_db[\"people\"]\n",
    "\n",
    "pitching_2000_2010 = pitching.filter(\n",
    "    (pl.col(\"yearID\") >= 2000) & (pl.col(\"yearID\") <= 2010)\n",
    ")\n",
    "\n",
    "hits_allowed = (\n",
    "    pitching_2000_2010\n",
    "    .group_by(\"playerID\")\n",
    "    .agg(pl.sum(\"H\").alias(\"total_hits_allowed\"))\n",
    ")\n",
    "\n",
    "result = (\n",
    "    hits_allowed.join(\n",
    "        people.select([\"playerID\", \"nameFirst\", \"nameLast\"]),\n",
    "        on=\"playerID\",\n",
    "        how=\"left\"\n",
    "    )\n",
    "    .select([\"playerID\", \"nameFirst\", \"nameLast\", \"total_hits_allowed\"])\n",
    "    .sort(\"total_hits_allowed\", descending=True)\n",
    ")\n",
    "\n",
    "result.head()\n"
   ]
  }
 ],
 "metadata": {
  "kernelspec": {
   "display_name": "Python [conda env:polars]",
   "language": "python",
   "name": "conda-env-polars-py"
  },
  "language_info": {
   "codemirror_mode": {
    "name": "ipython",
    "version": 3
   },
   "file_extension": ".py",
   "mimetype": "text/x-python",
   "name": "python",
   "nbconvert_exporter": "python",
   "pygments_lexer": "ipython3",
   "version": "3.13.7"
  }
 },
 "nbformat": 4,
 "nbformat_minor": 5
}
